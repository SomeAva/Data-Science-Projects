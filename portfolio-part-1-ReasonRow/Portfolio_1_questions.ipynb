{
 "cells": [
  {
   "cell_type": "raw",
   "id": "bf59aa03",
   "metadata": {},
   "source": [
    "# Analysis of an E-commerce Dataset\n",
    "\n",
    "We have been provided with a combined e-commerce dataset. In this dataset, each user has the ability to post a rating and review for the products they purchased. Additionally, other users can evaluate the initial rating and review by expressing their trust or distrust.\n",
    "\n",
    "This dataset includes a wealth of information for each user. Details such as their profile, ID, gender, city of birth, product ratings (on a scale of 1-5), reviews, and the prices of the products they purchased are all included. Moreover, for each product rating, we have information about the product name, ID, price, and category, the rating score, the timestamp of the rating and review, and the average helpfulness of the rating given by others (on a scale of 1-5).\n",
    "\n",
    "The dataset is from several data sources, and we have merged all the data into a single CSV file named 'A Combined E-commerce Dataset.csv'. The structure of this dataset is represented in the header shown below.\n",
    "\n",
    "| userId | gender | rating | review| item | category | helpfulness | timestamp | item_id | item_price | user_city|\n",
    "\n",
    "    | ---- | ---- | ---- | ---- | ---- | ---- | ---- | ---- | ---- |  ---- |  ---- |  \n",
    "    \n",
    "#### Description of Fields\n",
    "\n",
    "* __userId__ - the user's id\n",
    "* __gender__ - the user's gender\n",
    "* __rating__ - the user's rating towards the item\n",
    "* __review__ - the user's review towards the item\n",
    "* __item__ - the item's name\n",
    "* __category__ - the category of the item\n",
    "* __helpfulness__ - the average helpfulness of this rating\n",
    "* __timestamp__ - the timestamp when the rating is created\n",
    "* __item_id__ - the item's id\n",
    "* __item_price__ - the item's price\n",
    "* __user_city__ - the city of user's birth\n",
    "\n",
    "Note that, a user may rate multiple items and an item may receive ratings and reviews from multiple users. The \"helpfulness\" is an average value based on all the helpfulness values given by others.\n",
    "\n",
    "There are four questions to explore with the data as shown below.\n",
    "\n",
    "\n",
    "\n",
    "<img src=\"data-relation.png\" align=\"left\" width=\"400\"/>\n"
   ]
  },
  {
   "cell_type": "markdown",
   "id": "f55098bf",
   "metadata": {},
   "source": [
    " #### Q1. Remove missing data\n",
    " \n",
    "Please remove the following records in the csv file: \n",
    " \n",
    " * gender/rating/helpfulness is missing\n",
    " * review is 'none'\n",
    "\n",
    "__Display the DataFrame, counting number of Null values in each column, and print the length of the data__ before and after removing the missing data.  "
   ]
  },
  {
   "cell_type": "code",
   "execution_count": 1,
   "id": "d5f3e949",
   "metadata": {},
   "outputs": [],
   "source": [
    "#importing the pandas package is used for data modelling, analysis and data manipulation.\n",
    "import pandas as pd"
   ]
  },
  {
   "cell_type": "code",
   "execution_count": 2,
   "id": "b1bdacb7",
   "metadata": {},
   "outputs": [
    {
     "data": {
      "text/html": [
       "<div>\n",
       "<style scoped>\n",
       "    .dataframe tbody tr th:only-of-type {\n",
       "        vertical-align: middle;\n",
       "    }\n",
       "\n",
       "    .dataframe tbody tr th {\n",
       "        vertical-align: top;\n",
       "    }\n",
       "\n",
       "    .dataframe thead th {\n",
       "        text-align: right;\n",
       "    }\n",
       "</style>\n",
       "<table border=\"1\" class=\"dataframe\">\n",
       "  <thead>\n",
       "    <tr style=\"text-align: right;\">\n",
       "      <th></th>\n",
       "      <th>userId</th>\n",
       "      <th>timestamp</th>\n",
       "      <th>review</th>\n",
       "      <th>item</th>\n",
       "      <th>rating</th>\n",
       "      <th>helpfulness</th>\n",
       "      <th>gender</th>\n",
       "      <th>category</th>\n",
       "      <th>item_id</th>\n",
       "      <th>item_price</th>\n",
       "      <th>user_city</th>\n",
       "    </tr>\n",
       "  </thead>\n",
       "  <tbody>\n",
       "    <tr>\n",
       "      <th>0</th>\n",
       "      <td>4051</td>\n",
       "      <td>12807</td>\n",
       "      <td>Great job for what it is!</td>\n",
       "      <td>eBay</td>\n",
       "      <td>5.0</td>\n",
       "      <td>2.0</td>\n",
       "      <td>F</td>\n",
       "      <td>Online Stores &amp; Services</td>\n",
       "      <td>88</td>\n",
       "      <td>149.00</td>\n",
       "      <td>39</td>\n",
       "    </tr>\n",
       "    <tr>\n",
       "      <th>1</th>\n",
       "      <td>4052</td>\n",
       "      <td>122899</td>\n",
       "      <td>Free Access Worth your Time</td>\n",
       "      <td>NetZero</td>\n",
       "      <td>5.0</td>\n",
       "      <td>0.0</td>\n",
       "      <td>F</td>\n",
       "      <td>Online Stores &amp; Services</td>\n",
       "      <td>46</td>\n",
       "      <td>53.00</td>\n",
       "      <td>39</td>\n",
       "    </tr>\n",
       "    <tr>\n",
       "      <th>2</th>\n",
       "      <td>33</td>\n",
       "      <td>12700</td>\n",
       "      <td>AOL..I love you!!!!!!!!!!!!</td>\n",
       "      <td>AOL (America Online)</td>\n",
       "      <td>5.0</td>\n",
       "      <td>4.0</td>\n",
       "      <td>F</td>\n",
       "      <td>Online Stores &amp; Services</td>\n",
       "      <td>0</td>\n",
       "      <td>145.84</td>\n",
       "      <td>31</td>\n",
       "    </tr>\n",
       "    <tr>\n",
       "      <th>3</th>\n",
       "      <td>33</td>\n",
       "      <td>21000</td>\n",
       "      <td>EBAY!!!  I LOVE YOU!!!! :-)*</td>\n",
       "      <td>eBay</td>\n",
       "      <td>5.0</td>\n",
       "      <td>4.0</td>\n",
       "      <td>F</td>\n",
       "      <td>Online Stores &amp; Services</td>\n",
       "      <td>88</td>\n",
       "      <td>149.00</td>\n",
       "      <td>31</td>\n",
       "    </tr>\n",
       "    <tr>\n",
       "      <th>4</th>\n",
       "      <td>33</td>\n",
       "      <td>22300</td>\n",
       "      <td>Blair Witch...Oh Come On.......</td>\n",
       "      <td>Blair Witch Project</td>\n",
       "      <td>1.0</td>\n",
       "      <td>4.0</td>\n",
       "      <td>F</td>\n",
       "      <td>Movies</td>\n",
       "      <td>12</td>\n",
       "      <td>44.00</td>\n",
       "      <td>31</td>\n",
       "    </tr>\n",
       "  </tbody>\n",
       "</table>\n",
       "</div>"
      ],
      "text/plain": [
       "   userId  timestamp                           review                  item  \\\n",
       "0    4051      12807        Great job for what it is!                  eBay   \n",
       "1    4052     122899      Free Access Worth your Time               NetZero   \n",
       "2      33      12700    AOL..I love you!!!!!!!!!!!!    AOL (America Online)   \n",
       "3      33      21000     EBAY!!!  I LOVE YOU!!!! :-)*                  eBay   \n",
       "4      33      22300  Blair Witch...Oh Come On.......   Blair Witch Project   \n",
       "\n",
       "   rating  helpfulness gender                  category  item_id  item_price  \\\n",
       "0     5.0          2.0      F  Online Stores & Services       88      149.00   \n",
       "1     5.0          0.0      F  Online Stores & Services       46       53.00   \n",
       "2     5.0          4.0      F  Online Stores & Services        0      145.84   \n",
       "3     5.0          4.0      F  Online Stores & Services       88      149.00   \n",
       "4     1.0          4.0      F                    Movies       12       44.00   \n",
       "\n",
       "   user_city  \n",
       "0         39  \n",
       "1         39  \n",
       "2         31  \n",
       "3         31  \n",
       "4         31  "
      ]
     },
     "execution_count": 2,
     "metadata": {},
     "output_type": "execute_result"
    }
   ],
   "source": [
    "#This code allows us to import the excel file which will then be able to extract data from it.\n",
    "removing = pd.read_csv('TheE-commerceDataset.csv')\n",
    "removing.head()"
   ]
  },
  {
   "cell_type": "code",
   "execution_count": 3,
   "id": "f736154d",
   "metadata": {},
   "outputs": [
    {
     "data": {
      "text/plain": [
       "userId          0\n",
       "timestamp       0\n",
       "review          0\n",
       "item            0\n",
       "rating         17\n",
       "helpfulness    22\n",
       "gender         27\n",
       "category        0\n",
       "item_id         0\n",
       "item_price      0\n",
       "user_city       0\n",
       "dtype: int64"
      ]
     },
     "execution_count": 3,
     "metadata": {},
     "output_type": "execute_result"
    }
   ],
   "source": [
    "#using the sum function to count the total null values for each column\n",
    "removing.isnull().sum()\n",
    "#in this case there are 17 null values for rating, 22 null values for helpfulness and 27 null values for gender.\n",
    "\n"
   ]
  },
  {
   "cell_type": "code",
   "execution_count": 4,
   "id": "8df4f134",
   "metadata": {},
   "outputs": [
    {
     "name": "stdout",
     "output_type": "stream",
     "text": [
      "20000\n"
     ]
    }
   ],
   "source": [
    "#using the len function to see the length of the data before cleansing it which is 20000\n",
    "print(len(removing))"
   ]
  },
  {
   "cell_type": "code",
   "execution_count": 5,
   "id": "2f756ab7",
   "metadata": {},
   "outputs": [],
   "source": [
    "#This code allows us to drop any null values from a  row that are in a column of either rating, helpfulness or gender.\n",
    "see = removing.dropna(subset = ['rating', 'helpfulness', 'gender'])"
   ]
  },
  {
   "cell_type": "code",
   "execution_count": 6,
   "id": "8473bd71",
   "metadata": {},
   "outputs": [],
   "source": [
    "#the following function will define the index to drop all values of 'none' in a column called 'review'\n",
    "cleaning = see[see['review'] == 'none'].index"
   ]
  },
  {
   "cell_type": "code",
   "execution_count": 7,
   "id": "91744270",
   "metadata": {},
   "outputs": [],
   "source": [
    "\"\"\" Using pandas dataframe drop function will drop the rows from the cleaning variable and is now being store in a\n",
    "new variable called 'cleaning2'. \"\"\"\n",
    "cleaning2 = see.drop(cleaning)"
   ]
  },
  {
   "cell_type": "code",
   "execution_count": 9,
   "id": "bf1bcf20",
   "metadata": {},
   "outputs": [
    {
     "data": {
      "text/plain": [
       "19916"
      ]
     },
     "execution_count": 9,
     "metadata": {},
     "output_type": "execute_result"
    }
   ],
   "source": [
    "#the length function is used to check the length of the data after it was cleansed\n",
    "len(cleaning2)"
   ]
  },
  {
   "cell_type": "code",
   "execution_count": 10,
   "id": "9c539267",
   "metadata": {},
   "outputs": [
    {
     "data": {
      "text/plain": [
       "userId         0\n",
       "timestamp      0\n",
       "review         0\n",
       "item           0\n",
       "rating         0\n",
       "helpfulness    0\n",
       "gender         0\n",
       "category       0\n",
       "item_id        0\n",
       "item_price     0\n",
       "user_city      0\n",
       "dtype: int64"
      ]
     },
     "execution_count": 10,
     "metadata": {},
     "output_type": "execute_result"
    }
   ],
   "source": [
    "#using isnull and sum function to get the sum of null values from each column after data was cleansed\n",
    "cleaning2.isnull().sum() #No null value comes up which indicates the code was successful "
   ]
  },
  {
   "cell_type": "markdown",
   "id": "24a4899b",
   "metadata": {},
   "source": [
    "### Comment\n",
    "\n",
    "Cleaning data is essential to remove any information that do not make sense or practically have no sort of value. In this case, gender, rating and helpfulness had null values and reviews having a value of 'none' and this lead to cleansing the data by removing the rows and proceeding to check the length of the data to see if that was cleaned."
   ]
  },
  {
   "cell_type": "markdown",
   "id": "fa668afd",
   "metadata": {},
   "source": [
    "#### Q2. Descriptive statistics\n",
    "\n",
    "With the cleaned data in Q1, please provide the data summarization as below:\n",
    "\n",
    "* Q2.1 total number of unique users, unique reviews, unique items, and unique categories\n",
    "* Q2.2 descriptive statistics, e.g., the total number, mean, std, min and max regarding all rating records\n",
    "* Q2.3 descriptive statistics, e.g., mean, std, max, and min of the number of items rated by different genders \n",
    "* Q2.4 descriptive statistics, e.g., mean, std, max, min of the number of ratings that received by each items \n"
   ]
  },
  {
   "cell_type": "code",
   "execution_count": 12,
   "id": "b1c21e95",
   "metadata": {},
   "outputs": [
    {
     "name": "stdout",
     "output_type": "stream",
     "text": [
      "There are 8562 ids, 19459 unique reviews 89 unique items and 9 unique categories\n"
     ]
    }
   ],
   "source": [
    "#the following codes allow us to get the unique and total number of users, reviews, items and categories.\n",
    "u_id = len(cleaning2.userId.unique()) #gets the unique values of users\n",
    "u_reviews = len(cleaning2.review.unique()) #unique values of reviews\n",
    "u_items = len(cleaning2.item.unique()) #unique values for items\n",
    "u_categories = len(cleaning2.category.unique()) # unique values of categories\n",
    "print(\"There are \" + str(u_id) + \" ids, \" + str(u_reviews) + \" unique reviews \" + str(u_items) + \" unique items \" + \"and \"\n",
    "      + str(u_categories) + \" unique categories\") #printing the unique values out with clear indications of the column values"
   ]
  },
  {
   "cell_type": "code",
   "execution_count": 13,
   "id": "530a1e2c",
   "metadata": {},
   "outputs": [
    {
     "name": "stdout",
     "output_type": "stream",
     "text": [
      "Total number: 73725.0  Mean: 3.7017975497087767  Standard deviation: 1.4044507218710944  The max value: 5.0  The min value: 1.0\n"
     ]
    }
   ],
   "source": [
    "#using the function such as .sum(), .mean() etc gives out the descriptive stat values from the rating records\n",
    "print(\"Total number:\", cleaning2.rating.sum(), \" Mean:\",  cleaning2.rating.mean(), \" Standard deviation:\" ,\n",
    "      cleaning2.rating.std(), \" The max value:\",  cleaning2.rating.max(), \" The min value:\",  cleaning2.rating.min())"
   ]
  },
  {
   "cell_type": "code",
   "execution_count": 14,
   "id": "4ce3deec",
   "metadata": {},
   "outputs": [
    {
     "name": "stdout",
     "output_type": "stream",
     "text": [
      "gender\n",
      "F     9793\n",
      "M    10123\n",
      "Name: item, dtype: int64\n"
     ]
    }
   ],
   "source": [
    "\"\"\"using the groupby function to seperate and are used for data aggregation to retrieve descriptive stats for items being\n",
    "rated by different genders.\"\"\"\n",
    "grouping =cleaning2.groupby(['gender'])['item'].count()\n",
    "print(grouping)"
   ]
  },
  {
   "cell_type": "code",
   "execution_count": 15,
   "id": "352a6fd9",
   "metadata": {},
   "outputs": [
    {
     "data": {
      "text/plain": [
       "count        2.000000\n",
       "mean      9958.000000\n",
       "std        233.345238\n",
       "min       9793.000000\n",
       "25%       9875.500000\n",
       "50%       9958.000000\n",
       "75%      10040.500000\n",
       "max      10123.000000\n",
       "Name: item, dtype: float64"
      ]
     },
     "execution_count": 15,
     "metadata": {},
     "output_type": "execute_result"
    }
   ],
   "source": [
    "#using the describe function to get the descriptive stat records of items being rated by different genders\n",
    "grouping.describe()"
   ]
  },
  {
   "cell_type": "code",
   "execution_count": 16,
   "id": "008875c4",
   "metadata": {},
   "outputs": [
    {
     "data": {
      "text/html": [
       "<div>\n",
       "<style scoped>\n",
       "    .dataframe tbody tr th:only-of-type {\n",
       "        vertical-align: middle;\n",
       "    }\n",
       "\n",
       "    .dataframe tbody tr th {\n",
       "        vertical-align: top;\n",
       "    }\n",
       "\n",
       "    .dataframe thead th {\n",
       "        text-align: right;\n",
       "    }\n",
       "</style>\n",
       "<table border=\"1\" class=\"dataframe\">\n",
       "  <thead>\n",
       "    <tr style=\"text-align: right;\">\n",
       "      <th></th>\n",
       "      <th>mean</th>\n",
       "      <th>std</th>\n",
       "      <th>max</th>\n",
       "      <th>min</th>\n",
       "      <th>count</th>\n",
       "    </tr>\n",
       "    <tr>\n",
       "      <th>item</th>\n",
       "      <th></th>\n",
       "      <th></th>\n",
       "      <th></th>\n",
       "      <th></th>\n",
       "      <th></th>\n",
       "    </tr>\n",
       "  </thead>\n",
       "  <tbody>\n",
       "    <tr>\n",
       "      <th>AOL (America Online)</th>\n",
       "      <td>2.500532</td>\n",
       "      <td>1.368528</td>\n",
       "      <td>5.0</td>\n",
       "      <td>1.0</td>\n",
       "      <td>939</td>\n",
       "    </tr>\n",
       "    <tr>\n",
       "      <th>All Advantage</th>\n",
       "      <td>3.412481</td>\n",
       "      <td>1.541706</td>\n",
       "      <td>5.0</td>\n",
       "      <td>1.0</td>\n",
       "      <td>657</td>\n",
       "    </tr>\n",
       "    <tr>\n",
       "      <th>Alta Vista (by 1stUp)</th>\n",
       "      <td>3.541401</td>\n",
       "      <td>1.263341</td>\n",
       "      <td>5.0</td>\n",
       "      <td>1.0</td>\n",
       "      <td>157</td>\n",
       "    </tr>\n",
       "    <tr>\n",
       "      <th>Amazon.com</th>\n",
       "      <td>3.683333</td>\n",
       "      <td>1.571095</td>\n",
       "      <td>5.0</td>\n",
       "      <td>1.0</td>\n",
       "      <td>240</td>\n",
       "    </tr>\n",
       "    <tr>\n",
       "      <th>American Airlines</th>\n",
       "      <td>3.054054</td>\n",
       "      <td>1.417015</td>\n",
       "      <td>5.0</td>\n",
       "      <td>1.0</td>\n",
       "      <td>185</td>\n",
       "    </tr>\n",
       "    <tr>\n",
       "      <th>...</th>\n",
       "      <td>...</td>\n",
       "      <td>...</td>\n",
       "      <td>...</td>\n",
       "      <td>...</td>\n",
       "      <td>...</td>\n",
       "    </tr>\n",
       "    <tr>\n",
       "      <th>Wendy's</th>\n",
       "      <td>3.971429</td>\n",
       "      <td>1.093322</td>\n",
       "      <td>5.0</td>\n",
       "      <td>1.0</td>\n",
       "      <td>210</td>\n",
       "    </tr>\n",
       "    <tr>\n",
       "      <th>What Lies Beneath</th>\n",
       "      <td>3.450000</td>\n",
       "      <td>1.201676</td>\n",
       "      <td>5.0</td>\n",
       "      <td>1.0</td>\n",
       "      <td>160</td>\n",
       "    </tr>\n",
       "    <tr>\n",
       "      <th>X-Men</th>\n",
       "      <td>4.118367</td>\n",
       "      <td>0.853074</td>\n",
       "      <td>5.0</td>\n",
       "      <td>1.0</td>\n",
       "      <td>245</td>\n",
       "    </tr>\n",
       "    <tr>\n",
       "      <th>X.com</th>\n",
       "      <td>4.023121</td>\n",
       "      <td>1.474409</td>\n",
       "      <td>5.0</td>\n",
       "      <td>1.0</td>\n",
       "      <td>173</td>\n",
       "    </tr>\n",
       "    <tr>\n",
       "      <th>eBay</th>\n",
       "      <td>4.333893</td>\n",
       "      <td>0.949618</td>\n",
       "      <td>5.0</td>\n",
       "      <td>1.0</td>\n",
       "      <td>596</td>\n",
       "    </tr>\n",
       "  </tbody>\n",
       "</table>\n",
       "<p>89 rows × 5 columns</p>\n",
       "</div>"
      ],
      "text/plain": [
       "                           mean       std  max  min  count\n",
       "item                                                      \n",
       "AOL (America Online)   2.500532  1.368528  5.0  1.0    939\n",
       "All Advantage          3.412481  1.541706  5.0  1.0    657\n",
       "Alta Vista (by 1stUp)  3.541401  1.263341  5.0  1.0    157\n",
       "Amazon.com             3.683333  1.571095  5.0  1.0    240\n",
       "American Airlines      3.054054  1.417015  5.0  1.0    185\n",
       "...                         ...       ...  ...  ...    ...\n",
       "Wendy's                3.971429  1.093322  5.0  1.0    210\n",
       "What Lies Beneath      3.450000  1.201676  5.0  1.0    160\n",
       "X-Men                  4.118367  0.853074  5.0  1.0    245\n",
       "X.com                  4.023121  1.474409  5.0  1.0    173\n",
       "eBay                   4.333893  0.949618  5.0  1.0    596\n",
       "\n",
       "[89 rows x 5 columns]"
      ]
     },
     "execution_count": 16,
     "metadata": {},
     "output_type": "execute_result"
    }
   ],
   "source": [
    "#similar to 2.3, in this case its using the groupby function for rating recieved in each items.\n",
    "cleaning2.groupby(['item'])['rating'].agg(['mean', 'std', 'max', 'min', 'count'])"
   ]
  },
  {
   "cell_type": "markdown",
   "id": "33a7ee86",
   "metadata": {},
   "source": [
    "### Comment\n",
    "\n",
    "The following answers provided the number of unique values of users, reviews, items and categories from the entire table and established an understanding of basic descriptive values about the variables in this dataset which included knowing the mean, std, min, max and total number from different column values such as gender, item and rating.\n",
    "The descriptive stat helped summariase the data which helped measure tendency and varability.\n"
   ]
  },
  {
   "cell_type": "raw",
   "id": "77d64f8d",
   "metadata": {},
   "source": [
    "# Q3. Plotting and Analysis\n",
    "\n",
    "Please try to explore the correlation between gender/helpfulness/category and ratings; for instance, do female/male users tend to provide higher ratings than male/female users? Hint: you may use the boxplot function to plot figures for comparison (___Challenge___)\n",
    "    \n",
    "You may need to select the most suitable graphic forms for ease of presentation. Most importantly, for each figure or subfigure, please summarise ___what each plot shows___ (i.e. observations and explanations). Finally, you may need to provide an overall summary of the data."
   ]
  },
  {
   "cell_type": "code",
   "execution_count": 17,
   "id": "9dacc9a4",
   "metadata": {},
   "outputs": [],
   "source": [
    "import matplotlib.pyplot as plt\n",
    "%matplotlib inline\n",
    "import seaborn as sns\n",
    "import matplotlib.pyplot as plt"
   ]
  },
  {
   "cell_type": "code",
   "execution_count": 18,
   "id": "e010ddbd",
   "metadata": {},
   "outputs": [
    {
     "data": {
      "text/plain": [
       "<Axes: xlabel='gender', ylabel='rating'>"
      ]
     },
     "execution_count": 18,
     "metadata": {},
     "output_type": "execute_result"
    },
    {
     "data": {
      "image/png": "[encoded data removed]",
      "text/plain": [
       "<Figure size 640x480 with 1 Axes>"
      ]
     },
     "metadata": {},
     "output_type": "display_data"
    }
   ],
   "source": [
    "\"\"\"using a boxplot to make comparison and using the seaborn package for a more clearer and colourful boxplot.\n",
    "The relation between the gender of males and females and rating are no different from each other\"\"\"\n",
    "sns.boxplot(x = 'gender', y = 'rating', data = cleaning2) "
   ]
  },
  {
   "cell_type": "code",
   "execution_count": 19,
   "id": "d50e5ae7",
   "metadata": {},
   "outputs": [
    {
     "data": {
      "text/plain": [
       "<Axes: xlabel='helpfulness', ylabel='rating'>"
      ]
     },
     "execution_count": 19,
     "metadata": {},
     "output_type": "execute_result"
    },
    {
     "data": {
      "image/png": "[encoded data removed]",
      "text/plain": [
       "<Figure size 640x480 with 1 Axes>"
      ]
     },
     "metadata": {},
     "output_type": "display_data"
    }
   ],
   "source": [
    "\"\"\"the relation between helpfulness values and rating shows almost no difference besides the helpfuness with the value 2\n",
    "tends to have a smaller lower quartile\"\"\"\n",
    "sns.boxplot(x = 'helpfulness', y = 'rating', data = cleaning2)"
   ]
  },
  {
   "cell_type": "code",
   "execution_count": 20,
   "id": "a9ad1692",
   "metadata": {},
   "outputs": [
    {
     "data": {
      "image/png": "[encoded data removed]",
      "text/plain": [
       "<Figure size 2000x800 with 1 Axes>"
      ]
     },
     "metadata": {},
     "output_type": "display_data"
    }
   ],
   "source": [
    "\"\"\"This boxplot shows a relation between categories and rating. Media tends to have a lower rating comparing to the \n",
    "other categories while other values not including games and books tend to have the same mean. Games and books are the only\n",
    "values that contains outliers. Games tend to be an anomoly as it's lower quartile is marked as the highest among all other\n",
    "values.\"\"\"\n",
    "plt.figure(figsize = (20,8))\n",
    "plot = sns.boxplot(x = 'category', y = 'rating', data = cleaning2)\n",
    "\n",
    "plt.show()"
   ]
  },
  {
   "cell_type": "markdown",
   "id": "379b1937",
   "metadata": {},
   "source": [
    "### Comment\n",
    "There is no correlation between Females and males with rating as neither of the genders show any different ratings\n",
    "The second boxplot values of helpfulness does not show a higher rating among each other as they all have the same median which is the rating of 4, the upper quartile are all the same, they all have a minimum value of 1 and only difference is the helpfulness value of 2 which has a lower quartile rating value of 2.\n",
    "The third boxplot seems that the different categories tend to provide different ratings from each other. Example of this is that media has a lower mean rating value of 2 while most of the other categories have a rating value of 4. There is a few outliers in the categories of games which are in rating of 1 and 2 which can be excluded and also for books which is a rating of 1 2 3 4.\n",
    "The boxplots with the use of the seaborn package helps distinguish between values and ratings in a clear matter.\n"
   ]
  },
  {
   "cell_type": "markdown",
   "id": "cd05aff1",
   "metadata": {},
   "source": [
    "#### Q4. Detect and remove outliers\n",
    "\n",
    "We may define outlier users, reviews and items with three rules (if a record meets one of the rules, it is regarded as an outlier):\n",
    "\n",
    "* reviews of which the helpfulness is no more than 2\n",
    "* users who rate less than 7 items\n",
    "* items that receives less than 11 ratings \n",
    " \n",
    "Please remove the corresponding records in the csv file that involves outlier users, reviews and items. After that, __print the length of the data__."
   ]
  },
  {
   "cell_type": "code",
   "execution_count": 22,
   "id": "cd8effaf",
   "metadata": {},
   "outputs": [
    {
     "data": {
      "text/plain": [
       "19916"
      ]
     },
     "execution_count": 22,
     "metadata": {},
     "output_type": "execute_result"
    }
   ],
   "source": [
    "len(cleaning2) #using the length function before the removal of the outliers to see the row values."
   ]
  },
  {
   "cell_type": "code",
   "execution_count": 23,
   "id": "d8c4e397",
   "metadata": {
    "scrolled": true
   },
   "outputs": [
    {
     "data": {
      "text/html": [
       "<div>\n",
       "<style scoped>\n",
       "    .dataframe tbody tr th:only-of-type {\n",
       "        vertical-align: middle;\n",
       "    }\n",
       "\n",
       "    .dataframe tbody tr th {\n",
       "        vertical-align: top;\n",
       "    }\n",
       "\n",
       "    .dataframe thead th {\n",
       "        text-align: right;\n",
       "    }\n",
       "</style>\n",
       "<table border=\"1\" class=\"dataframe\">\n",
       "  <thead>\n",
       "    <tr style=\"text-align: right;\">\n",
       "      <th></th>\n",
       "      <th>userId</th>\n",
       "      <th>timestamp</th>\n",
       "      <th>review</th>\n",
       "      <th>item</th>\n",
       "      <th>rating</th>\n",
       "      <th>helpfulness</th>\n",
       "      <th>gender</th>\n",
       "      <th>category</th>\n",
       "      <th>item_id</th>\n",
       "      <th>item_price</th>\n",
       "      <th>user_city</th>\n",
       "    </tr>\n",
       "  </thead>\n",
       "  <tbody>\n",
       "    <tr>\n",
       "      <th>0</th>\n",
       "      <td>4051</td>\n",
       "      <td>12807</td>\n",
       "      <td>Great job for what it is!</td>\n",
       "      <td>eBay</td>\n",
       "      <td>5.0</td>\n",
       "      <td>2.0</td>\n",
       "      <td>F</td>\n",
       "      <td>Online Stores &amp; Services</td>\n",
       "      <td>88</td>\n",
       "      <td>149.00</td>\n",
       "      <td>39</td>\n",
       "    </tr>\n",
       "    <tr>\n",
       "      <th>1</th>\n",
       "      <td>4052</td>\n",
       "      <td>122899</td>\n",
       "      <td>Free Access Worth your Time</td>\n",
       "      <td>NetZero</td>\n",
       "      <td>5.0</td>\n",
       "      <td>0.0</td>\n",
       "      <td>F</td>\n",
       "      <td>Online Stores &amp; Services</td>\n",
       "      <td>46</td>\n",
       "      <td>53.00</td>\n",
       "      <td>39</td>\n",
       "    </tr>\n",
       "    <tr>\n",
       "      <th>5</th>\n",
       "      <td>33</td>\n",
       "      <td>30100</td>\n",
       "      <td>What is the &amp;quot;Matrix&amp;quot; Great Movie</td>\n",
       "      <td>Matrix</td>\n",
       "      <td>4.0</td>\n",
       "      <td>0.0</td>\n",
       "      <td>F</td>\n",
       "      <td>Movies</td>\n",
       "      <td>40</td>\n",
       "      <td>24.51</td>\n",
       "      <td>31</td>\n",
       "    </tr>\n",
       "    <tr>\n",
       "      <th>7</th>\n",
       "      <td>33</td>\n",
       "      <td>52800</td>\n",
       "      <td>E-commerce..what do I do???</td>\n",
       "      <td>PayPal</td>\n",
       "      <td>4.0</td>\n",
       "      <td>0.0</td>\n",
       "      <td>F</td>\n",
       "      <td>Personal Finance</td>\n",
       "      <td>52</td>\n",
       "      <td>38.00</td>\n",
       "      <td>31</td>\n",
       "    </tr>\n",
       "    <tr>\n",
       "      <th>8</th>\n",
       "      <td>33</td>\n",
       "      <td>52800</td>\n",
       "      <td>A man who remade himself..</td>\n",
       "      <td>Wendy's</td>\n",
       "      <td>5.0</td>\n",
       "      <td>0.0</td>\n",
       "      <td>F</td>\n",
       "      <td>Restaurants &amp; Gourmet</td>\n",
       "      <td>84</td>\n",
       "      <td>69.00</td>\n",
       "      <td>31</td>\n",
       "    </tr>\n",
       "  </tbody>\n",
       "</table>\n",
       "</div>"
      ],
      "text/plain": [
       "   userId  timestamp                                      review     item  \\\n",
       "0    4051      12807                   Great job for what it is!     eBay   \n",
       "1    4052     122899                 Free Access Worth your Time  NetZero   \n",
       "5      33      30100  What is the &quot;Matrix&quot; Great Movie   Matrix   \n",
       "7      33      52800                 E-commerce..what do I do???   PayPal   \n",
       "8      33      52800                  A man who remade himself..  Wendy's   \n",
       "\n",
       "   rating  helpfulness gender                  category  item_id  item_price  \\\n",
       "0     5.0          2.0      F  Online Stores & Services       88      149.00   \n",
       "1     5.0          0.0      F  Online Stores & Services       46       53.00   \n",
       "5     4.0          0.0      F                    Movies       40       24.51   \n",
       "7     4.0          0.0      F          Personal Finance       52       38.00   \n",
       "8     5.0          0.0      F     Restaurants & Gourmet       84       69.00   \n",
       "\n",
       "   user_city  \n",
       "0         39  \n",
       "1         39  \n",
       "5         31  \n",
       "7         31  \n",
       "8         31  "
      ]
     },
     "execution_count": 23,
     "metadata": {},
     "output_type": "execute_result"
    }
   ],
   "source": [
    "cleaning2.drop(index = cleaning2.index[cleaning2.helpfulness > 2], inplace = True)\n",
    "cleaning2.head() #this function allows to remove any outliers that have a helpfulness rating greater than two."
   ]
  },
  {
   "cell_type": "code",
   "execution_count": 24,
   "id": "60d5a9a0",
   "metadata": {},
   "outputs": [
    {
     "data": {
      "text/plain": [
       "6273"
      ]
     },
     "execution_count": 24,
     "metadata": {},
     "output_type": "execute_result"
    }
   ],
   "source": [
    "len(cleaning2) #this checks the length of the table after the first outliers are remvoed."
   ]
  },
  {
   "cell_type": "code",
   "execution_count": 43,
   "id": "d9aa77af",
   "metadata": {},
   "outputs": [
    {
     "data": {
      "text/html": [
       "<div>\n",
       "<style scoped>\n",
       "    .dataframe tbody tr th:only-of-type {\n",
       "        vertical-align: middle;\n",
       "    }\n",
       "\n",
       "    .dataframe tbody tr th {\n",
       "        vertical-align: top;\n",
       "    }\n",
       "\n",
       "    .dataframe thead th {\n",
       "        text-align: right;\n",
       "    }\n",
       "</style>\n",
       "<table border=\"1\" class=\"dataframe\">\n",
       "  <thead>\n",
       "    <tr style=\"text-align: right;\">\n",
       "      <th></th>\n",
       "      <th>userId</th>\n",
       "      <th>timestamp</th>\n",
       "      <th>review</th>\n",
       "      <th>item</th>\n",
       "      <th>rating</th>\n",
       "      <th>helpfulness</th>\n",
       "      <th>gender</th>\n",
       "      <th>category</th>\n",
       "      <th>item_id</th>\n",
       "      <th>item_price</th>\n",
       "      <th>user_city</th>\n",
       "    </tr>\n",
       "  </thead>\n",
       "  <tbody>\n",
       "    <tr>\n",
       "      <th>1284</th>\n",
       "      <td>4479</td>\n",
       "      <td>12600</td>\n",
       "      <td>Wonderful service</td>\n",
       "      <td>Alta Vista (by 1stUp)</td>\n",
       "      <td>3.0</td>\n",
       "      <td>0.0</td>\n",
       "      <td>M</td>\n",
       "      <td>Online Stores &amp; Services</td>\n",
       "      <td>2</td>\n",
       "      <td>46.63</td>\n",
       "      <td>13</td>\n",
       "    </tr>\n",
       "    <tr>\n",
       "      <th>1286</th>\n",
       "      <td>4479</td>\n",
       "      <td>20800</td>\n",
       "      <td>Always fun to have a FREERIDE in life</td>\n",
       "      <td>FreeRide.com</td>\n",
       "      <td>5.0</td>\n",
       "      <td>0.0</td>\n",
       "      <td>M</td>\n",
       "      <td>Online Stores &amp; Services</td>\n",
       "      <td>28</td>\n",
       "      <td>147.00</td>\n",
       "      <td>13</td>\n",
       "    </tr>\n",
       "    <tr>\n",
       "      <th>1287</th>\n",
       "      <td>4479</td>\n",
       "      <td>30200</td>\n",
       "      <td>Mypoints is cool</td>\n",
       "      <td>MyPoints.com</td>\n",
       "      <td>5.0</td>\n",
       "      <td>0.0</td>\n",
       "      <td>M</td>\n",
       "      <td>Online Stores &amp; Services</td>\n",
       "      <td>43</td>\n",
       "      <td>72.00</td>\n",
       "      <td>13</td>\n",
       "    </tr>\n",
       "    <tr>\n",
       "      <th>1288</th>\n",
       "      <td>4479</td>\n",
       "      <td>31300</td>\n",
       "      <td>StartSampling Stop Sampling</td>\n",
       "      <td>StartSampling.Com</td>\n",
       "      <td>3.0</td>\n",
       "      <td>0.0</td>\n",
       "      <td>M</td>\n",
       "      <td>Online Stores &amp; Services</td>\n",
       "      <td>72</td>\n",
       "      <td>49.00</td>\n",
       "      <td>13</td>\n",
       "    </tr>\n",
       "    <tr>\n",
       "      <th>1289</th>\n",
       "      <td>4479</td>\n",
       "      <td>41000</td>\n",
       "      <td>I have mixed feelings....</td>\n",
       "      <td>FOX</td>\n",
       "      <td>3.0</td>\n",
       "      <td>0.0</td>\n",
       "      <td>M</td>\n",
       "      <td>Media</td>\n",
       "      <td>25</td>\n",
       "      <td>80.00</td>\n",
       "      <td>13</td>\n",
       "    </tr>\n",
       "  </tbody>\n",
       "</table>\n",
       "</div>"
      ],
      "text/plain": [
       "      userId  timestamp                                 review  \\\n",
       "1284    4479      12600                      Wonderful service   \n",
       "1286    4479      20800  Always fun to have a FREERIDE in life   \n",
       "1287    4479      30200                       Mypoints is cool   \n",
       "1288    4479      31300            StartSampling Stop Sampling   \n",
       "1289    4479      41000              I have mixed feelings....   \n",
       "\n",
       "                       item  rating  helpfulness gender  \\\n",
       "1284  Alta Vista (by 1stUp)     3.0          0.0      M   \n",
       "1286           FreeRide.com     5.0          0.0      M   \n",
       "1287           MyPoints.com     5.0          0.0      M   \n",
       "1288      StartSampling.Com     3.0          0.0      M   \n",
       "1289                    FOX     3.0          0.0      M   \n",
       "\n",
       "                      category  item_id  item_price  user_city  \n",
       "1284  Online Stores & Services        2       46.63         13  \n",
       "1286  Online Stores & Services       28      147.00         13  \n",
       "1287  Online Stores & Services       43       72.00         13  \n",
       "1288  Online Stores & Services       72       49.00         13  \n",
       "1289                     Media       25       80.00         13  "
      ]
     },
     "execution_count": 43,
     "metadata": {},
     "output_type": "execute_result"
    }
   ],
   "source": [
    "#groups the values and detects if there are any outliers that have users rating less than 7\n",
    "group = cleaning2.groupby(['userId'])['rating'].count() \n",
    "Detecting = group[group >= 7].index\n",
    "cleaning2 = cleaning2[cleaning2['userId'].isin(Detecting)]\n",
    "cleaning2.head()"
   ]
  },
  {
   "cell_type": "code",
   "execution_count": 44,
   "id": "8a1cc530",
   "metadata": {},
   "outputs": [
    {
     "data": {
      "text/plain": [
       "119"
      ]
     },
     "execution_count": 44,
     "metadata": {},
     "output_type": "execute_result"
    }
   ],
   "source": [
    "len(cleaning2)"
   ]
  },
  {
   "cell_type": "code",
   "execution_count": 47,
   "id": "cc2fb202",
   "metadata": {},
   "outputs": [
    {
     "data": {
      "text/html": [
       "<div>\n",
       "<style scoped>\n",
       "    .dataframe tbody tr th:only-of-type {\n",
       "        vertical-align: middle;\n",
       "    }\n",
       "\n",
       "    .dataframe tbody tr th {\n",
       "        vertical-align: top;\n",
       "    }\n",
       "\n",
       "    .dataframe thead th {\n",
       "        text-align: right;\n",
       "    }\n",
       "</style>\n",
       "<table border=\"1\" class=\"dataframe\">\n",
       "  <thead>\n",
       "    <tr style=\"text-align: right;\">\n",
       "      <th></th>\n",
       "      <th>userId</th>\n",
       "      <th>timestamp</th>\n",
       "      <th>review</th>\n",
       "      <th>item</th>\n",
       "      <th>rating</th>\n",
       "      <th>helpfulness</th>\n",
       "      <th>gender</th>\n",
       "      <th>category</th>\n",
       "      <th>item_id</th>\n",
       "      <th>item_price</th>\n",
       "      <th>user_city</th>\n",
       "    </tr>\n",
       "  </thead>\n",
       "  <tbody>\n",
       "    <tr>\n",
       "      <th>1284</th>\n",
       "      <td>4479</td>\n",
       "      <td>12600</td>\n",
       "      <td>Wonderful service</td>\n",
       "      <td>Alta Vista (by 1stUp)</td>\n",
       "      <td>3.0</td>\n",
       "      <td>0.0</td>\n",
       "      <td>M</td>\n",
       "      <td>Online Stores &amp; Services</td>\n",
       "      <td>2</td>\n",
       "      <td>46.63</td>\n",
       "      <td>13</td>\n",
       "    </tr>\n",
       "    <tr>\n",
       "      <th>1286</th>\n",
       "      <td>4479</td>\n",
       "      <td>20800</td>\n",
       "      <td>Always fun to have a FREERIDE in life</td>\n",
       "      <td>FreeRide.com</td>\n",
       "      <td>5.0</td>\n",
       "      <td>0.0</td>\n",
       "      <td>M</td>\n",
       "      <td>Online Stores &amp; Services</td>\n",
       "      <td>28</td>\n",
       "      <td>147.00</td>\n",
       "      <td>13</td>\n",
       "    </tr>\n",
       "    <tr>\n",
       "      <th>1287</th>\n",
       "      <td>4479</td>\n",
       "      <td>30200</td>\n",
       "      <td>Mypoints is cool</td>\n",
       "      <td>MyPoints.com</td>\n",
       "      <td>5.0</td>\n",
       "      <td>0.0</td>\n",
       "      <td>M</td>\n",
       "      <td>Online Stores &amp; Services</td>\n",
       "      <td>43</td>\n",
       "      <td>72.00</td>\n",
       "      <td>13</td>\n",
       "    </tr>\n",
       "    <tr>\n",
       "      <th>1288</th>\n",
       "      <td>4479</td>\n",
       "      <td>31300</td>\n",
       "      <td>StartSampling Stop Sampling</td>\n",
       "      <td>StartSampling.Com</td>\n",
       "      <td>3.0</td>\n",
       "      <td>0.0</td>\n",
       "      <td>M</td>\n",
       "      <td>Online Stores &amp; Services</td>\n",
       "      <td>72</td>\n",
       "      <td>49.00</td>\n",
       "      <td>13</td>\n",
       "    </tr>\n",
       "    <tr>\n",
       "      <th>1289</th>\n",
       "      <td>4479</td>\n",
       "      <td>41000</td>\n",
       "      <td>I have mixed feelings....</td>\n",
       "      <td>FOX</td>\n",
       "      <td>3.0</td>\n",
       "      <td>0.0</td>\n",
       "      <td>M</td>\n",
       "      <td>Media</td>\n",
       "      <td>25</td>\n",
       "      <td>80.00</td>\n",
       "      <td>13</td>\n",
       "    </tr>\n",
       "  </tbody>\n",
       "</table>\n",
       "</div>"
      ],
      "text/plain": [
       "      userId  timestamp                                 review  \\\n",
       "1284    4479      12600                      Wonderful service   \n",
       "1286    4479      20800  Always fun to have a FREERIDE in life   \n",
       "1287    4479      30200                       Mypoints is cool   \n",
       "1288    4479      31300            StartSampling Stop Sampling   \n",
       "1289    4479      41000              I have mixed feelings....   \n",
       "\n",
       "                       item  rating  helpfulness gender  \\\n",
       "1284  Alta Vista (by 1stUp)     3.0          0.0      M   \n",
       "1286           FreeRide.com     5.0          0.0      M   \n",
       "1287           MyPoints.com     5.0          0.0      M   \n",
       "1288      StartSampling.Com     3.0          0.0      M   \n",
       "1289                    FOX     3.0          0.0      M   \n",
       "\n",
       "                      category  item_id  item_price  user_city  \n",
       "1284  Online Stores & Services        2       46.63         13  \n",
       "1286  Online Stores & Services       28      147.00         13  \n",
       "1287  Online Stores & Services       43       72.00         13  \n",
       "1288  Online Stores & Services       72       49.00         13  \n",
       "1289                     Media       25       80.00         13  "
      ]
     },
     "execution_count": 47,
     "metadata": {},
     "output_type": "execute_result"
    }
   ],
   "source": [
    "\"\"\"similar to the code before but instead it groups the item with rating and to remove outliers which recieves less than 11 \n",
    "rating\"\"\"\n",
    "\n",
    "item_rating = cleaning2.groupby(['item'])['rating'].count()\n",
    "outlier = cleaning2[cleaning2['rating'] < 11].index\n",
    "cleaning2 = cleaning2[cleaning2['rating'].isin(outlier) == False]\n",
    "cleaning2.head()"
   ]
  },
  {
   "cell_type": "code",
   "execution_count": 39,
   "id": "a06e6ace",
   "metadata": {},
   "outputs": [
    {
     "data": {
      "text/plain": [
       "119"
      ]
     },
     "execution_count": 39,
     "metadata": {},
     "output_type": "execute_result"
    }
   ],
   "source": [
    "len(cleaning2)#printing the length of the final cleaned data"
   ]
  },
  {
   "cell_type": "markdown",
   "id": "488cb150",
   "metadata": {},
   "source": [
    "### Comment\n",
    "removing outliers is important especially with this dataset as it can affect the statistical analysis and greatly skew the results. The first step was to remove outliers that have a helpfulness rating greater than 2 which greatly decreased the length of the data to 6273. The next two step was using the groupby function to group two different values in order to remove the outliers such as users rating less than 7 items and items recieved less than 11 ratings. Overall the removal of outliers helped increase the accuracy of the dataset."
   ]
  }
 ],
 "metadata": {
  "kernelspec": {
   "display_name": "Python 3 (ipykernel)",
   "language": "python",
   "name": "python3"
  },
  "language_info": {
   "codemirror_mode": {
    "name": "ipython",
    "version": 3
   },
   "file_extension": ".py",
   "mimetype": "text/x-python",
   "name": "python",
   "nbconvert_exporter": "python",
   "pygments_lexer": "ipython3",
   "version": "3.11.3"
  }
 },
 "nbformat": 4,
 "nbformat_minor": 5
}
