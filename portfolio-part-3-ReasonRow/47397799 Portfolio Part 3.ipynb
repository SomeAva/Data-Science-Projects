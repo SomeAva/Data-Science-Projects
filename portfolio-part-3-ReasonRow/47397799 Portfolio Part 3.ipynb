{
 "cells": [
  {
   "cell_type": "code",
   "execution_count": 4,
   "id": "e68891b2",
   "metadata": {},
   "outputs": [
    {
     "name": "stdout",
     "output_type": "stream",
     "text": [
      "False\n"
     ]
    }
   ],
   "source": [
    "#a boolean to check if any null values\n",
    "print(df.isnull().values.any())"
   ]
  },
  {
   "cell_type": "code",
   "execution_count": 5,
   "id": "75d24ba7",
   "metadata": {},
   "outputs": [],
   "source": [
    "labenc = LabelEncoder()"
   ]
  },
  {
   "cell_type": "code",
   "execution_count": 6,
   "id": "d2ec579e",
   "metadata": {},
   "outputs": [],
   "source": [
    "from sklearn.preprocessing import OrdinalEncoder # package which transform categorical values into numerical\n",
    "ord_encoder = OrdinalEncoder() #transforming categorical values to numerical and storing it as the variable ord+encoder"
   ]
  },
  {
   "cell_type": "code",
   "execution_count": 7,
   "id": "5d9f1994",
   "metadata": {},
   "outputs": [
    {
     "data": {
      "text/plain": [
       "-0.04175608688557927"
      ]
     },
     "execution_count": 7,
     "metadata": {},
     "output_type": "execute_result"
    }
   ],
   "source": [
    "df[\"review\"] = ord_encoder.fit_transform(df[['review']])#transforms categorical value to numerical with review\n",
    "df['review'].corr(df['rating']) #checks the correlation between review and rating\n"
   ]
  },
  {
   "cell_type": "code",
   "execution_count": 8,
   "id": "fe5f3080",
   "metadata": {},
   "outputs": [
    {
     "data": {
      "text/plain": [
       "0.05779297968097926"
      ]
     },
     "execution_count": 8,
     "metadata": {},
     "output_type": "execute_result"
    }
   ],
   "source": [
    "df[\"item\"] = ord_encoder.fit_transform(df[['item']])#transforms categorical value to numerical with item\n",
    "df['item'].corr(df['rating']) #checks the correlation between item and rating"
   ]
  },
  {
   "cell_type": "code",
   "execution_count": 9,
   "id": "660b8e99",
   "metadata": {},
   "outputs": [
    {
     "data": {
      "text/plain": [
       "-0.142478648194198"
      ]
     },
     "execution_count": 9,
     "metadata": {},
     "output_type": "execute_result"
    }
   ],
   "source": [
    "df[\"category\"] = ord_encoder.fit_transform(df[['category']])#transforms categorical value to numerical with category\n",
    "df[\"category\"].corr(df['rating']) #checks the correlation between category and rating"
   ]
  },
  {
   "cell_type": "code",
   "execution_count": 10,
   "id": "b2470703",
   "metadata": {},
   "outputs": [
    {
     "data": {
      "text/plain": [
       "-0.022168835059893272"
      ]
     },
     "execution_count": 10,
     "metadata": {},
     "output_type": "execute_result"
    }
   ],
   "source": [
    "df[\"gender\"] = ord_encoder.fit_transform(df[['gender']]) #transforms categorical value to numerical with gender\n",
    "df[\"gender\"].corr(df['rating']) #checks the correlation between gender and rating"
   ]
  },
  {
   "cell_type": "markdown",
   "id": "a1fde7a4",
   "metadata": {},
   "source": [
    "## Comment\n",
    "\n",
    "The code helped us answer tackle question 2 and 3 by transforming the categorical values such as review, item, category and gender into numerical by using the encoder and than proceeding to see the correlation betweeen the converted values with rated to check how the strength of a relationship between the two values.\n",
    "All values have a weak correlation with rating. The strongest correlated features are category and rating with the value of -0.14(2dp)."
   ]
  },
  {
   "cell_type": "code",
   "execution_count": 11,
   "id": "f2a4716d",
   "metadata": {},
   "outputs": [],
   "source": [
    "X = df[['item', 'gender', 'category', 'review', 'rating' ]] #storing the column values inside X variable\n",
    "y = df['rating'] #Storing the rating column in y variable"
   ]
  },
  {
   "cell_type": "code",
   "execution_count": 12,
   "id": "bddb985f",
   "metadata": {},
   "outputs": [
    {
     "name": "stdout",
     "output_type": "stream",
     "text": [
      "train dimension (2416, 5)\n",
      "test dimension: (269, 5)\n"
     ]
    }
   ],
   "source": [
    "X_train, X_test, y_train, y_test = train_test_split(X, y, test_size=0.1, random_state = 142) #splitting the dataset,training 90% of the data\n",
    "print(\"train dimension\",X_train.shape) #shows the dimension of the training model\n",
    "print(\"test dimension:\",X_test.shape) #shows the dimension of the testing model"
   ]
  },
  {
   "cell_type": "code",
   "execution_count": 13,
   "id": "a041b569",
   "metadata": {},
   "outputs": [
    {
     "data": {
      "text/html": [
       "<style>#sk-container-id-1 {color: black;background-color: white;}#sk-container-id-1 pre{padding: 0;}#sk-container-id-1 div.sk-toggleable {background-color: white;}#sk-container-id-1 label.sk-toggleable__label {cursor: pointer;display: block;width: 100%;margin-bottom: 0;padding: 0.3em;box-sizing: border-box;text-align: center;}#sk-container-id-1 label.sk-toggleable__label-arrow:before {content: \"▸\";float: left;margin-right: 0.25em;color: #696969;}#sk-container-id-1 label.sk-toggleable__label-arrow:hover:before {color: black;}#sk-container-id-1 div.sk-estimator:hover label.sk-toggleable__label-arrow:before {color: black;}#sk-container-id-1 div.sk-toggleable__content {max-height: 0;max-width: 0;overflow: hidden;text-align: left;background-color: #f0f8ff;}#sk-container-id-1 div.sk-toggleable__content pre {margin: 0.2em;color: black;border-radius: 0.25em;background-color: #f0f8ff;}#sk-container-id-1 input.sk-toggleable__control:checked~div.sk-toggleable__content {max-height: 200px;max-width: 100%;overflow: auto;}#sk-container-id-1 input.sk-toggleable__control:checked~label.sk-toggleable__label-arrow:before {content: \"▾\";}#sk-container-id-1 div.sk-estimator input.sk-toggleable__control:checked~label.sk-toggleable__label {background-color: #d4ebff;}#sk-container-id-1 div.sk-label input.sk-toggleable__control:checked~label.sk-toggleable__label {background-color: #d4ebff;}#sk-container-id-1 input.sk-hidden--visually {border: 0;clip: rect(1px 1px 1px 1px);clip: rect(1px, 1px, 1px, 1px);height: 1px;margin: -1px;overflow: hidden;padding: 0;position: absolute;width: 1px;}#sk-container-id-1 div.sk-estimator {font-family: monospace;background-color: #f0f8ff;border: 1px dotted black;border-radius: 0.25em;box-sizing: border-box;margin-bottom: 0.5em;}#sk-container-id-1 div.sk-estimator:hover {background-color: #d4ebff;}#sk-container-id-1 div.sk-parallel-item::after {content: \"\";width: 100%;border-bottom: 1px solid gray;flex-grow: 1;}#sk-container-id-1 div.sk-label:hover label.sk-toggleable__label {background-color: #d4ebff;}#sk-container-id-1 div.sk-serial::before {content: \"\";position: absolute;border-left: 1px solid gray;box-sizing: border-box;top: 0;bottom: 0;left: 50%;z-index: 0;}#sk-container-id-1 div.sk-serial {display: flex;flex-direction: column;align-items: center;background-color: white;padding-right: 0.2em;padding-left: 0.2em;position: relative;}#sk-container-id-1 div.sk-item {position: relative;z-index: 1;}#sk-container-id-1 div.sk-parallel {display: flex;align-items: stretch;justify-content: center;background-color: white;position: relative;}#sk-container-id-1 div.sk-item::before, #sk-container-id-1 div.sk-parallel-item::before {content: \"\";position: absolute;border-left: 1px solid gray;box-sizing: border-box;top: 0;bottom: 0;left: 50%;z-index: -1;}#sk-container-id-1 div.sk-parallel-item {display: flex;flex-direction: column;z-index: 1;position: relative;background-color: white;}#sk-container-id-1 div.sk-parallel-item:first-child::after {align-self: flex-end;width: 50%;}#sk-container-id-1 div.sk-parallel-item:last-child::after {align-self: flex-start;width: 50%;}#sk-container-id-1 div.sk-parallel-item:only-child::after {width: 0;}#sk-container-id-1 div.sk-dashed-wrapped {border: 1px dashed gray;margin: 0 0.4em 0.5em 0.4em;box-sizing: border-box;padding-bottom: 0.4em;background-color: white;}#sk-container-id-1 div.sk-label label {font-family: monospace;font-weight: bold;display: inline-block;line-height: 1.2em;}#sk-container-id-1 div.sk-label-container {text-align: center;}#sk-container-id-1 div.sk-container {/* jupyter's `normalize.less` sets `[hidden] { display: none; }` but bootstrap.min.css set `[hidden] { display: none !important; }` so we also need the `!important` here to be able to override the default hidden behavior on the sphinx rendered scikit-learn.org. See: https://github.com/scikit-learn/scikit-learn/issues/21755 */display: inline-block !important;position: relative;}#sk-container-id-1 div.sk-text-repr-fallback {display: none;}</style><div id=\"sk-container-id-1\" class=\"sk-top-container\"><div class=\"sk-text-repr-fallback\"><pre>LogisticRegression()</pre><b>In a Jupyter environment, please rerun this cell to show the HTML representation or trust the notebook. <br />On GitHub, the HTML representation is unable to render, please try loading this page with nbviewer.org.</b></div><div class=\"sk-container\" hidden><div class=\"sk-item\"><div class=\"sk-estimator sk-toggleable\"><input class=\"sk-toggleable__control sk-hidden--visually\" id=\"sk-estimator-id-1\" type=\"checkbox\" checked><label for=\"sk-estimator-id-1\" class=\"sk-toggleable__label sk-toggleable__label-arrow\">LogisticRegression</label><div class=\"sk-toggleable__content\"><pre>LogisticRegression()</pre></div></div></div></div></div>"
      ],
      "text/plain": [
       "LogisticRegression()"
      ]
     },
     "execution_count": 13,
     "metadata": {},
     "output_type": "execute_result"
    }
   ],
   "source": [
    "reg_model = linear_model.LogisticRegression() #to establish a linear model in the dataset and to show predictions for model a\n",
    "X_train_model = X_train[['category', 'review', 'item', 'gender' ]] #training with 4 values\n",
    "y_train_model = X_train['rating'] #using the training model for rating\n",
    "\n",
    "\n",
    "X_test_model = X_test[['category', 'review', 'item', 'gender' ]] #testing with 4 values\n",
    "y_test_model = X_test['rating'] #utilising testing model with rating\n",
    "\n",
    "reg_model.fit(X_train_model, y_train_model) #helps fit the model which establishes instances for\n",
    "\n"
   ]
  },
  {
   "cell_type": "code",
   "execution_count": 14,
   "id": "23d636e1",
   "metadata": {},
   "outputs": [
    {
     "name": "stdout",
     "output_type": "stream",
     "text": [
      "Accuracy: 1.0\n"
     ]
    },
    {
     "name": "stderr",
     "output_type": "stream",
     "text": [
      "C:\\Users\\shahi\\anaconda3\\Lib\\site-packages\\sklearn\\linear_model\\_logistic.py:458: ConvergenceWarning: lbfgs failed to converge (status=1):\n",
      "STOP: TOTAL NO. of ITERATIONS REACHED LIMIT.\n",
      "\n",
      "Increase the number of iterations (max_iter) or scale the data as shown in:\n",
      "    https://scikit-learn.org/stable/modules/preprocessing.html\n",
      "Please also refer to the documentation for alternative solver options:\n",
      "    https://scikit-learn.org/stable/modules/linear_model.html#logistic-regression\n",
      "  n_iter_i = _check_optimize_result(\n"
     ]
    }
   ],
   "source": [
    "model = LogisticRegression() #establishing a regression model\n",
    "model.fit(X_train, y_train) #training a regression model\n",
    "y_pred = model.predict(X_test)\n",
    "\n",
    "predicting = model.predict(X_test) #to predict in the input samples\n",
    "\n",
    "accuracy = accuracy_score(y_test, predicting) #checking how accurate the data is\n",
    "print(\"Accuracy:\", accuracy) #printing"
   ]
  },
  {
   "cell_type": "markdown",
   "id": "71ed4c18",
   "metadata": {},
   "source": [
    "## Comment\n",
    "\n",
    "The data has been splitted as 90% of the data is being trained and 10% is being tested. The shape for the train model is 2416,5 and the shape for test model is 269,5. The reason to split the dataset is to estimate how good the learned model can generalise the new data and to avoid overfitting in the machine learning model. The next step was to train the logistech regression model which helps find patterns in the data and its aim is to not only help predict the data but solve problems. In this case we used four columns to establish a relation with 'rating'. The next step was to predict the rating as using this method the machine learning algorithm to predict the output future values with the placed values being continuous.\n",
    "\n"
   ]
  },
  {
   "cell_type": "code",
   "execution_count": 15,
   "id": "ed99445f",
   "metadata": {},
   "outputs": [
    {
     "name": "stdout",
     "output_type": "stream",
     "text": [
      "[1 0 1 1 1 0 1 0 0 1 1 1 1 0 1 1 1 1 0 1 1 0 0 0 1 1 1 1 1 1 1 1 1 1 1 1 1\n",
      " 1 0 1 1 1 1 1 1 0 1 1 0 0 1 1 1 1 1 1 0 1 1 1 1 1 1 1 1 1 1 0 1 0 1 1 0 0\n",
      " 1 0 1 1 1 1 1 1 1 0 1 1 1 1 1 1 1 0 1 1 1 1 0 1 1 1 1 1 1 0 1 1 1 1 1 1 1\n",
      " 1 0 1 0 0 0 1 1 1 1 1 1 1 1 1 0 0 1 1 1 0 1 1 1 0 1 1 1 1 1 1 1 1 1 0 1 0\n",
      " 1 0 1 1 1 0 1 0 1 1 1 1 1 1 1 1 1 1 1 0 1 1 1 1 1 1 0 1 0 1 0 1 1 1 0 0 1\n",
      " 1 1 1 1 1 1 0 1 1 0 0 1 0 1 0 0 0 0 1 0 0 1 1 1 1 1 1 1 1 1 1 1 1 1 1 1 0\n",
      " 1 0 1 1 1 1 1 1 1 1 0 1 1 1 1 1 0 1 0 1 0 1 0 1 1 0 1 1 0 1 0 0 1 0 1 0 1\n",
      " 1 0 1 0 1 1 0 1 0 1]\n"
     ]
    }
   ],
   "source": [
    "KNN_modeling = KNeighborsClassifier(n_neighbors = 10).fit(X_train_model,y_train_model)# trains a KNN classifier model\n",
    "model = DecisionTreeRegressor(max_depth =3).fit(X_train_model, y_train_model) #to predict the target value\n",
    "y_predict = KNN_modeling.predict(X_test_model) #predicting the value from the test model\n",
    "print(y_predict) # prints the prediction\n"
   ]
  },
  {
   "cell_type": "code",
   "execution_count": 16,
   "id": "df4a937a",
   "metadata": {},
   "outputs": [
    {
     "name": "stdout",
     "output_type": "stream",
     "text": [
      "Accuracy: 0.65\n"
     ]
    }
   ],
   "source": [
    "accuracy = accuracy_score(y_predict,y_test_model) #predicts the accuracy from the test model\n",
    "print(\"Accuracy:\", round(accuracy, 2)) #prints the accuracy value"
   ]
  },
  {
   "cell_type": "markdown",
   "id": "8f1e52c1",
   "metadata": {},
   "source": [
    "## Comment\n",
    "\n",
    "The same splitted dataset will be used for the KNN model with the 90% training size and 10% testing size. The KNN classified has been created also trained with the N_neighbors value of 10. Utilising this KNN model helps achieve  highly accurate predictions. The DecisionTreeRegressor is used for this model as it observes features and helps train the model which further helps predict the output in regards of the subset in which the model falls into. Once the data is predicted, it is time to see how accuracte the data is. In this case, it was 0.65 rounded 2dp. In the terms of KNN, the value of '1' means there are zero error rate. In this case, the error rate is not much but the data is not entirely accurate."
   ]
  },
  {
   "cell_type": "code",
   "execution_count": 17,
   "id": "9767b1fe",
   "metadata": {},
   "outputs": [
    {
     "name": "stdout",
     "output_type": "stream",
     "text": [
      "Greatest K Value:  33\n",
      "the accuracy:  0.64\n"
     ]
    }
   ],
   "source": [
    "parameter_grid = {'n_neighbors': range(1, 35)} #getting a range of values from 1 to 35\n",
    "\n",
    "#establishes a machine learing model\n",
    "knn_clf_check = KNeighborsClassifier()  \n",
    "clf_check = GridSearchCV(knn_clf_check, parameter_grid, scoring='accuracy', cv= 10)\n",
    "clf_check.fit(X, y)\n",
    "\n",
    "print('Greatest K Value: ', clf_check.best_params_['n_neighbors']) #prints the best K value\n",
    "print('the accuracy: ', round(clf_check.best_score_,2)) #prints the accuracy"
   ]
  },
  {
   "cell_type": "markdown",
   "id": "f550dc0b",
   "metadata": {},
   "source": [
    "## Comment\n",
    "\n",
    "Now the next step was to tune the hyperparamater K in KNN. First step was to establish a search base in range between 1 and 35 and introduce the machine learning process including gridsearch which helps find the optimal prameter values which is part of a cross validation procedure. the data was than fited and printing the accuracy which is rounded to 0.64 and the best K value is 33"
   ]
  },
  {
   "cell_type": "code",
   "execution_count": 18,
   "id": "9fd90600",
   "metadata": {},
   "outputs": [
    {
     "data": {
      "image/png": "[encoded data removed]",
      "text/plain": [
       "<Figure size 640x480 with 1 Axes>"
      ]
     },
     "metadata": {},
     "output_type": "display_data"
    }
   ],
   "source": [
    "#establishing a graph representing K values in relation error checking with error training and testing\n",
    "training_error=list()\n",
    "testing_error=list()\n",
    "\n",
    "for i in range(1, 40): #selection a range of K values between 1 and 40\n",
    "    clf = KNeighborsClassifier(n_neighbors = i)\n",
    "    clf.fit(X_train, y_train)\n",
    "    training_error.append(1.0-accuracy_score(clf.predict(X_train), y_train))\n",
    "    testing_error.append(1.0-accuracy_score(clf.predict(X_test), y_test))\n",
    "\n",
    "#Designing the graph\n",
    "plt.plot(range(1, 40), training_error, label='Error Training')\n",
    "plt.plot(range(1, 40), testing_error, label='Error Testing')\n",
    "plt.xlabel('K_check')\n",
    "plt.ylabel('Error_check')\n",
    "plt.legend(loc='best')\n",
    "plt.show()"
   ]
  },
  {
   "cell_type": "markdown",
   "id": "c420ff91",
   "metadata": {},
   "source": [
    "## Comment\n",
    "\n",
    "The graph represents a relation between The K value and error_check which shows that as the K value increases the error rate increases for error training this is because large amount of data is being introduced which is bound to have an increase in errors. Moreover, for error testing as the K value increases, the error decreases. With the K value increasing can lead to underfitting which also leads to high variance. Further up the Value it shows that the error training and testing is breaking between K value of 35 and 40\n"
   ]
  },
  {
   "cell_type": "code",
   "execution_count": null,
   "id": "ff893adf",
   "metadata": {},
   "outputs": [],
   "source": []
  }
 ],
 "metadata": {
  "colab": {
   "provenance": []
  },
  "kernelspec": {
   "display_name": "Python 3 (ipykernel)",
   "language": "python",
   "name": "python3"
  },
  "language_info": {
   "codemirror_mode": {
    "name": "ipython",
    "version": 3
   },
   "file_extension": ".py",
   "mimetype": "text/x-python",
   "name": "python",
   "nbconvert_exporter": "python",
   "pygments_lexer": "ipython3",
   "version": "3.11.3"
  },
  "widgets": {
   "application/vnd.jupyter.widget-state+json": {
    "state": {},
    "version_major": 2,
    "version_minor": 0
   }
  }
 },
 "nbformat": 4,
 "nbformat_minor": 5
}
